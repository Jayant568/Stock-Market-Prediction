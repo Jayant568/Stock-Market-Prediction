{
 "cells": [
  {
   "cell_type": "markdown",
   "id": "9a1f4659",
   "metadata": {},
   "source": [
    "# Stock Market Price Prediction using Machine Learning\n",
    "This notebook demonstrates a basic stock market prediction model using historical stock data."
   ]
  },
  {
   "cell_type": "code",
   "execution_count": 6,
   "id": "0a1fd81c",
   "metadata": {},
   "outputs": [],
   "source": [
    "import pandas as pd\n",
    "import numpy as np\n",
    "from sklearn.model_selection import train_test_split\n",
    "from sklearn.linear_model import LinearRegression\n",
    "from sklearn.metrics import mean_squared_error\n",
    "import yfinance as yf\n",
    "import matplotlib.pyplot as plt\n",
    "import plotly.graph_objs as go\n",
    "from plotly.subplots import make_subplots"
   ]
  },
  {
   "cell_type": "code",
   "execution_count": 7,
   "id": "90185730",
   "metadata": {},
   "outputs": [
    {
     "name": "stdout",
     "output_type": "stream",
     "text": [
      "YF.download() has changed argument auto_adjust default to True\n"
     ]
    },
    {
     "name": "stderr",
     "output_type": "stream",
     "text": [
      "[*********************100%***********************]  1 of 1 completed\n"
     ]
    },
    {
     "data": {
      "text/html": [
       "<div>\n",
       "<style scoped>\n",
       "    .dataframe tbody tr th:only-of-type {\n",
       "        vertical-align: middle;\n",
       "    }\n",
       "\n",
       "    .dataframe tbody tr th {\n",
       "        vertical-align: top;\n",
       "    }\n",
       "\n",
       "    .dataframe thead tr th {\n",
       "        text-align: left;\n",
       "    }\n",
       "\n",
       "    .dataframe thead tr:last-of-type th {\n",
       "        text-align: right;\n",
       "    }\n",
       "</style>\n",
       "<table border=\"1\" class=\"dataframe\">\n",
       "  <thead>\n",
       "    <tr>\n",
       "      <th>Price</th>\n",
       "      <th>Close</th>\n",
       "      <th>High</th>\n",
       "      <th>Low</th>\n",
       "      <th>Open</th>\n",
       "      <th>Volume</th>\n",
       "    </tr>\n",
       "    <tr>\n",
       "      <th>Ticker</th>\n",
       "      <th>AAPL</th>\n",
       "      <th>AAPL</th>\n",
       "      <th>AAPL</th>\n",
       "      <th>AAPL</th>\n",
       "      <th>AAPL</th>\n",
       "    </tr>\n",
       "    <tr>\n",
       "      <th>Date</th>\n",
       "      <th></th>\n",
       "      <th></th>\n",
       "      <th></th>\n",
       "      <th></th>\n",
       "      <th></th>\n",
       "    </tr>\n",
       "  </thead>\n",
       "  <tbody>\n",
       "    <tr>\n",
       "      <th>2015-01-02</th>\n",
       "      <td>24.320429</td>\n",
       "      <td>24.789798</td>\n",
       "      <td>23.879978</td>\n",
       "      <td>24.778675</td>\n",
       "      <td>212818400</td>\n",
       "    </tr>\n",
       "    <tr>\n",
       "      <th>2015-01-05</th>\n",
       "      <td>23.635290</td>\n",
       "      <td>24.169170</td>\n",
       "      <td>23.448433</td>\n",
       "      <td>24.089088</td>\n",
       "      <td>257142000</td>\n",
       "    </tr>\n",
       "    <tr>\n",
       "      <th>2015-01-06</th>\n",
       "      <td>23.637512</td>\n",
       "      <td>23.897778</td>\n",
       "      <td>23.274918</td>\n",
       "      <td>23.699798</td>\n",
       "      <td>263188400</td>\n",
       "    </tr>\n",
       "    <tr>\n",
       "      <th>2015-01-07</th>\n",
       "      <td>23.968960</td>\n",
       "      <td>24.069062</td>\n",
       "      <td>23.735387</td>\n",
       "      <td>23.846612</td>\n",
       "      <td>160423600</td>\n",
       "    </tr>\n",
       "    <tr>\n",
       "      <th>2015-01-08</th>\n",
       "      <td>24.889898</td>\n",
       "      <td>24.947736</td>\n",
       "      <td>24.180283</td>\n",
       "      <td>24.298183</td>\n",
       "      <td>237458000</td>\n",
       "    </tr>\n",
       "  </tbody>\n",
       "</table>\n",
       "</div>"
      ],
      "text/plain": [
       "Price           Close       High        Low       Open     Volume\n",
       "Ticker           AAPL       AAPL       AAPL       AAPL       AAPL\n",
       "Date                                                             \n",
       "2015-01-02  24.320429  24.789798  23.879978  24.778675  212818400\n",
       "2015-01-05  23.635290  24.169170  23.448433  24.089088  257142000\n",
       "2015-01-06  23.637512  23.897778  23.274918  23.699798  263188400\n",
       "2015-01-07  23.968960  24.069062  23.735387  23.846612  160423600\n",
       "2015-01-08  24.889898  24.947736  24.180283  24.298183  237458000"
      ]
     },
     "execution_count": 7,
     "metadata": {},
     "output_type": "execute_result"
    }
   ],
   "source": [
    "# Download historical stock data (Apple)\n",
    "ticker = 'AAPL'\n",
    "df = yf.download(ticker, start='2015-01-01', end='2024-01-01')\n",
    "df.head()"
   ]
  },
  {
   "cell_type": "code",
   "execution_count": 8,
   "id": "31ec7e41",
   "metadata": {},
   "outputs": [],
   "source": [
    "# Create a target variable (next day's closing price)\n",
    "df['Target'] = df['Close'].shift(-1)\n",
    "\n",
    "# Prepare features and labels\n",
    "X = df[['Open', 'High', 'Low', 'Close', 'Volume']].dropna()\n",
    "y = df['Target'].dropna()\n",
    "\n",
    "# Align X and y\n",
    "X = X[:-1]\n",
    "y = y\n",
    "\n",
    "# Train-test split\n",
    "X_train, X_test, y_train, y_test = train_test_split(X, y, test_size=0.2, shuffle=False)"
   ]
  },
  {
   "cell_type": "code",
   "execution_count": 9,
   "id": "1a2f8031",
   "metadata": {},
   "outputs": [
    {
     "name": "stdout",
     "output_type": "stream",
     "text": [
      "Mean Squared Error: 7.977854681311645\n"
     ]
    }
   ],
   "source": [
    "# Train linear regression model\n",
    "model = LinearRegression()\n",
    "model.fit(X_train, y_train)\n",
    "\n",
    "# Make predictions\n",
    "predictions = model.predict(X_test)\n",
    "\n",
    "# Evaluate the model\n",
    "mse = mean_squared_error(y_test, predictions)\n",
    "print(f\"Mean Squared Error: {mse}\")"
   ]
  },
  {
   "cell_type": "code",
   "execution_count": 10,
   "id": "2253727b",
   "metadata": {},
   "outputs": [
    {
     "data": {
      "image/png": "[encoded data removed]",
      "text/plain": [
       "<Figure size 1000x600 with 1 Axes>"
      ]
     },
     "metadata": {},
     "output_type": "display_data"
    }
   ],
   "source": [
    "# Plot actual vs predicted prices using Matplotlib\n",
    "plt.figure(figsize=(10, 6))\n",
    "plt.plot(y_test.values, label='Actual Price')\n",
    "plt.plot(predictions, label='Predicted Price')\n",
    "plt.legend()\n",
    "plt.title(f'{ticker} Stock Price Prediction')\n",
    "plt.xlabel('Time')\n",
    "plt.ylabel('Price')\n",
    "plt.show()"
   ]
  },
  {
   "cell_type": "code",
   "execution_count": 11,
   "id": "34a8521b",
   "metadata": {},
   "outputs": [
    {
     "data": {
      "application/vnd.plotly.v1+json": {
       "config": {
        "plotlyServerURL": "https://plot.ly"
       },
       "data": [
        {
         "name": "Actual",
         "type": "scatter",
         "y": {
          "bdata": "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",
          "dtype": "f8"
         }
        },
        {
         "name": "Predicted",
         "type": "scatter",
         "y": {
          "bdata": "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",
          "dtype": "f8"
         }
        }
       ],
       "layout": {
        "template": {
         "data": {
          "bar": [
           {
            "error_x": {
             "color": "#2a3f5f"
            },
            "error_y": {
             "color": "#2a3f5f"
            },
            "marker": {
             "line": {
              "color": "#E5ECF6",
              "width": 0.5
             },
             "pattern": {
              "fillmode": "overlay",
              "size": 10,
              "solidity": 0.2
             }
            },
            "type": "bar"
           }
          ],
          "barpolar": [
           {
            "marker": {
             "line": {
              "color": "#E5ECF6",
              "width": 0.5
             },
             "pattern": {
              "fillmode": "overlay",
              "size": 10,
              "solidity": 0.2
             }
            },
            "type": "barpolar"
           }
          ],
          "carpet": [
           {
            "aaxis": {
             "endlinecolor": "#2a3f5f",
             "gridcolor": "white",
             "linecolor": "white",
             "minorgridcolor": "white",
             "startlinecolor": "#2a3f5f"
            },
            "baxis": {
             "endlinecolor": "#2a3f5f",
             "gridcolor": "white",
             "linecolor": "white",
             "minorgridcolor": "white",
             "startlinecolor": "#2a3f5f"
            },
            "type": "carpet"
           }
          ],
          "choropleth": [
           {
            "colorbar": {
             "outlinewidth": 0,
             "ticks": ""
            },
            "type": "choropleth"
           }
          ],
          "contour": [
           {
            "colorbar": {
             "outlinewidth": 0,
             "ticks": ""
            },
            "colorscale": [
             [
              0,
              "#0d0887"
             ],
             [
              0.1111111111111111,
              "#46039f"
             ],
             [
              0.2222222222222222,
              "#7201a8"
             ],
             [
              0.3333333333333333,
              "#9c179e"
             ],
             [
              0.4444444444444444,
              "#bd3786"
             ],
             [
              0.5555555555555556,
              "#d8576b"
             ],
             [
              0.6666666666666666,
              "#ed7953"
             ],
             [
              0.7777777777777778,
              "#fb9f3a"
             ],
             [
              0.8888888888888888,
              "#fdca26"
             ],
             [
              1,
              "#f0f921"
             ]
            ],
            "type": "contour"
           }
          ],
          "contourcarpet": [
           {
            "colorbar": {
             "outlinewidth": 0,
             "ticks": ""
            },
            "type": "contourcarpet"
           }
          ],
          "heatmap": [
           {
            "colorbar": {
             "outlinewidth": 0,
             "ticks": ""
            },
            "colorscale": [
             [
              0,
              "#0d0887"
             ],
             [
              0.1111111111111111,
              "#46039f"
             ],
             [
              0.2222222222222222,
              "#7201a8"
             ],
             [
              0.3333333333333333,
              "#9c179e"
             ],
             [
              0.4444444444444444,
              "#bd3786"
             ],
             [
              0.5555555555555556,
              "#d8576b"
             ],
             [
              0.6666666666666666,
              "#ed7953"
             ],
             [
              0.7777777777777778,
              "#fb9f3a"
             ],
             [
              0.8888888888888888,
              "#fdca26"
             ],
             [
              1,
              "#f0f921"
             ]
            ],
            "type": "heatmap"
           }
          ],
          "histogram": [
           {
            "marker": {
             "pattern": {
              "fillmode": "overlay",
              "size": 10,
              "solidity": 0.2
             }
            },
            "type": "histogram"
           }
          ],
          "histogram2d": [
           {
            "colorbar": {
             "outlinewidth": 0,
             "ticks": ""
            },
            "colorscale": [
             [
              0,
              "#0d0887"
             ],
             [
              0.1111111111111111,
              "#46039f"
             ],
             [
              0.2222222222222222,
              "#7201a8"
             ],
             [
              0.3333333333333333,
              "#9c179e"
             ],
             [
              0.4444444444444444,
              "#bd3786"
             ],
             [
              0.5555555555555556,
              "#d8576b"
             ],
             [
              0.6666666666666666,
              "#ed7953"
             ],
             [
              0.7777777777777778,
              "#fb9f3a"
             ],
             [
              0.8888888888888888,
              "#fdca26"
             ],
             [
              1,
              "#f0f921"
             ]
            ],
            "type": "histogram2d"
           }
          ],
          "histogram2dcontour": [
           {
            "colorbar": {
             "outlinewidth": 0,
             "ticks": ""
            },
            "colorscale": [
             [
              0,
              "#0d0887"
             ],
             [
              0.1111111111111111,
              "#46039f"
             ],
             [
              0.2222222222222222,
              "#7201a8"
             ],
             [
              0.3333333333333333,
              "#9c179e"
             ],
             [
              0.4444444444444444,
              "#bd3786"
             ],
             [
              0.5555555555555556,
              "#d8576b"
             ],
             [
              0.6666666666666666,
              "#ed7953"
             ],
             [
              0.7777777777777778,
              "#fb9f3a"
             ],
             [
              0.8888888888888888,
              "#fdca26"
             ],
             [
              1,
              "#f0f921"
             ]
            ],
            "type": "histogram2dcontour"
           }
          ],
          "mesh3d": [
           {
            "colorbar": {
             "outlinewidth": 0,
             "ticks": ""
            },
            "type": "mesh3d"
           }
          ],
          "parcoords": [
           {
            "line": {
             "colorbar": {
              "outlinewidth": 0,
              "ticks": ""
             }
            },
            "type": "parcoords"
           }
          ],
          "pie": [
           {
            "automargin": true,
            "type": "pie"
           }
          ],
          "scatter": [
           {
            "fillpattern": {
             "fillmode": "overlay",
             "size": 10,
             "solidity": 0.2
            },
            "type": "scatter"
           }
          ],
          "scatter3d": [
           {
            "line": {
             "colorbar": {
              "outlinewidth": 0,
              "ticks": ""
             }
            },
            "marker": {
             "colorbar": {
              "outlinewidth": 0,
              "ticks": ""
             }
            },
            "type": "scatter3d"
           }
          ],
          "scattercarpet": [
           {
            "marker": {
             "colorbar": {
              "outlinewidth": 0,
              "ticks": ""
             }
            },
            "type": "scattercarpet"
           }
          ],
          "scattergeo": [
           {
            "marker": {
             "colorbar": {
              "outlinewidth": 0,
              "ticks": ""
             }
            },
            "type": "scattergeo"
           }
          ],
          "scattergl": [
           {
            "marker": {
             "colorbar": {
              "outlinewidth": 0,
              "ticks": ""
             }
            },
            "type": "scattergl"
           }
          ],
          "scattermap": [
           {
            "marker": {
             "colorbar": {
              "outlinewidth": 0,
              "ticks": ""
             }
            },
            "type": "scattermap"
           }
          ],
          "scattermapbox": [
           {
            "marker": {
             "colorbar": {
              "outlinewidth": 0,
              "ticks": ""
             }
            },
            "type": "scattermapbox"
           }
          ],
          "scatterpolar": [
           {
            "marker": {
             "colorbar": {
              "outlinewidth": 0,
              "ticks": ""
             }
            },
            "type": "scatterpolar"
           }
          ],
          "scatterpolargl": [
           {
            "marker": {
             "colorbar": {
              "outlinewidth": 0,
              "ticks": ""
             }
            },
            "type": "scatterpolargl"
           }
          ],
          "scatterternary": [
           {
            "marker": {
             "colorbar": {
              "outlinewidth": 0,
              "ticks": ""
             }
            },
            "type": "scatterternary"
           }
          ],
          "surface": [
           {
            "colorbar": {
             "outlinewidth": 0,
             "ticks": ""
            },
            "colorscale": [
             [
              0,
              "#0d0887"
             ],
             [
              0.1111111111111111,
              "#46039f"
             ],
             [
              0.2222222222222222,
              "#7201a8"
             ],
             [
              0.3333333333333333,
              "#9c179e"
             ],
             [
              0.4444444444444444,
              "#bd3786"
             ],
             [
              0.5555555555555556,
              "#d8576b"
             ],
             [
              0.6666666666666666,
              "#ed7953"
             ],
             [
              0.7777777777777778,
              "#fb9f3a"
             ],
             [
              0.8888888888888888,
              "#fdca26"
             ],
             [
              1,
              "#f0f921"
             ]
            ],
            "type": "surface"
           }
          ],
          "table": [
           {
            "cells": {
             "fill": {
              "color": "#EBF0F8"
             },
             "line": {
              "color": "white"
             }
            },
            "header": {
             "fill": {
              "color": "#C8D4E3"
             },
             "line": {
              "color": "white"
             }
            },
            "type": "table"
           }
          ]
         },
         "layout": {
          "annotationdefaults": {
           "arrowcolor": "#2a3f5f",
           "arrowhead": 0,
           "arrowwidth": 1
          },
          "autotypenumbers": "strict",
          "coloraxis": {
           "colorbar": {
            "outlinewidth": 0,
            "ticks": ""
           }
          },
          "colorscale": {
           "diverging": [
            [
             0,
             "#8e0152"
            ],
            [
             0.1,
             "#c51b7d"
            ],
            [
             0.2,
             "#de77ae"
            ],
            [
             0.3,
             "#f1b6da"
            ],
            [
             0.4,
             "#fde0ef"
            ],
            [
             0.5,
             "#f7f7f7"
            ],
            [
             0.6,
             "#e6f5d0"
            ],
            [
             0.7,
             "#b8e186"
            ],
            [
             0.8,
             "#7fbc41"
            ],
            [
             0.9,
             "#4d9221"
            ],
            [
             1,
             "#276419"
            ]
           ],
           "sequential": [
            [
             0,
             "#0d0887"
            ],
            [
             0.1111111111111111,
             "#46039f"
            ],
            [
             0.2222222222222222,
             "#7201a8"
            ],
            [
             0.3333333333333333,
             "#9c179e"
            ],
            [
             0.4444444444444444,
             "#bd3786"
            ],
            [
             0.5555555555555556,
             "#d8576b"
            ],
            [
             0.6666666666666666,
             "#ed7953"
            ],
            [
             0.7777777777777778,
             "#fb9f3a"
            ],
            [
             0.8888888888888888,
             "#fdca26"
            ],
            [
             1,
             "#f0f921"
            ]
           ],
           "sequentialminus": [
            [
             0,
             "#0d0887"
            ],
            [
             0.1111111111111111,
             "#46039f"
            ],
            [
             0.2222222222222222,
             "#7201a8"
            ],
            [
             0.3333333333333333,
             "#9c179e"
            ],
            [
             0.4444444444444444,
             "#bd3786"
            ],
            [
             0.5555555555555556,
             "#d8576b"
            ],
            [
             0.6666666666666666,
             "#ed7953"
            ],
            [
             0.7777777777777778,
             "#fb9f3a"
            ],
            [
             0.8888888888888888,
             "#fdca26"
            ],
            [
             1,
             "#f0f921"
            ]
           ]
          },
          "colorway": [
           "#636efa",
           "#EF553B",
           "#00cc96",
           "#ab63fa",
           "#FFA15A",
           "#19d3f3",
           "#FF6692",
           "#B6E880",
           "#FF97FF",
           "#FECB52"
          ],
          "font": {
           "color": "#2a3f5f"
          },
          "geo": {
           "bgcolor": "white",
           "lakecolor": "white",
           "landcolor": "#E5ECF6",
           "showlakes": true,
           "showland": true,
           "subunitcolor": "white"
          },
          "hoverlabel": {
           "align": "left"
          },
          "hovermode": "closest",
          "mapbox": {
           "style": "light"
          },
          "paper_bgcolor": "white",
          "plot_bgcolor": "#E5ECF6",
          "polar": {
           "angularaxis": {
            "gridcolor": "white",
            "linecolor": "white",
            "ticks": ""
           },
           "bgcolor": "#E5ECF6",
           "radialaxis": {
            "gridcolor": "white",
            "linecolor": "white",
            "ticks": ""
           }
          },
          "scene": {
           "xaxis": {
            "backgroundcolor": "#E5ECF6",
            "gridcolor": "white",
            "gridwidth": 2,
            "linecolor": "white",
            "showbackground": true,
            "ticks": "",
            "zerolinecolor": "white"
           },
           "yaxis": {
            "backgroundcolor": "#E5ECF6",
            "gridcolor": "white",
            "gridwidth": 2,
            "linecolor": "white",
            "showbackground": true,
            "ticks": "",
            "zerolinecolor": "white"
           },
           "zaxis": {
            "backgroundcolor": "#E5ECF6",
            "gridcolor": "white",
            "gridwidth": 2,
            "linecolor": "white",
            "showbackground": true,
            "ticks": "",
            "zerolinecolor": "white"
           }
          },
          "shapedefaults": {
           "line": {
            "color": "#2a3f5f"
           }
          },
          "ternary": {
           "aaxis": {
            "gridcolor": "white",
            "linecolor": "white",
            "ticks": ""
           },
           "baxis": {
            "gridcolor": "white",
            "linecolor": "white",
            "ticks": ""
           },
           "bgcolor": "#E5ECF6",
           "caxis": {
            "gridcolor": "white",
            "linecolor": "white",
            "ticks": ""
           }
          },
          "title": {
           "x": 0.05
          },
          "xaxis": {
           "automargin": true,
           "gridcolor": "white",
           "linecolor": "white",
           "ticks": "",
           "title": {
            "standoff": 15
           },
           "zerolinecolor": "white",
           "zerolinewidth": 2
          },
          "yaxis": {
           "automargin": true,
           "gridcolor": "white",
           "linecolor": "white",
           "ticks": "",
           "title": {
            "standoff": 15
           },
           "zerolinecolor": "white",
           "zerolinewidth": 2
          }
         }
        },
        "title": {
         "text": "AAPL Stock Price Prediction (Interactive)"
        },
        "xaxis": {
         "anchor": "y",
         "domain": [
          0,
          1
         ],
         "title": {
          "text": "Time"
         }
        },
        "yaxis": {
         "anchor": "x",
         "domain": [
          0,
          1
         ],
         "title": {
          "text": "Price"
         }
        }
       }
      }
     },
     "metadata": {},
     "output_type": "display_data"
    }
   ],
   "source": [
    "# Interactive Plot with Plotly\n",
    "fig = make_subplots(rows=1, cols=1)\n",
    "fig.add_trace(go.Scatter(y=y_test.values, name='Actual'))\n",
    "fig.add_trace(go.Scatter(y=predictions, name='Predicted'))\n",
    "fig.update_layout(title=f'{ticker} Stock Price Prediction (Interactive)',\n",
    "                  xaxis_title='Time',\n",
    "                  yaxis_title='Price')\n",
    "fig.show()"
   ]
  }
 ],
 "metadata": {
  "kernelspec": {
   "display_name": "Python 3",
   "language": "python",
   "name": "python3"
  },
  "language_info": {
   "codemirror_mode": {
    "name": "ipython",
    "version": 3
   },
   "file_extension": ".py",
   "mimetype": "text/x-python",
   "name": "python",
   "nbconvert_exporter": "python",
   "pygments_lexer": "ipython3",
   "version": "3.13.3"
  }
 },
 "nbformat": 4,
 "nbformat_minor": 5
}
